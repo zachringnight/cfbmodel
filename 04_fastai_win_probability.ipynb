{
 "cells": [
  {
   "cell_type": "markdown",
   "id": "5f99c615",
   "metadata": {},
   "source": [
    "# FastAI Tabular: Predicting Home Win Probability\n",
    "\n",
    "This notebook uses FastAI's tabular module to train a neural network to predict whether the home team will win the game.\n",
    "\n",
    "**Neural Networks** are a type of machine learning model inspired by the human brain. They consist of layers of interconnected nodes (neurons) that process data. Neural networks are particularly good at recognizing patterns in complex data, making them suitable for tasks like image recognition, natural language processing, and tabular data analysis.\n",
    "\n",
    "**FastAI** is a high-level library built on top of PyTorch that simplifies the process of training deep learning models. It provides easy-to-use abstractions and pre-built components, allowing users to quickly build and experiment with different model architectures without needing to write extensive code.\n",
    "\n",
    "The **tabular module** in FastAI is specifically designed for working with structured data (like spreadsheets or databases). It includes features for data preprocessing, model training, and evaluation, making it ideal for tasks involving tabular data. The tabular module can automatically handle categorical variables, missing values, and other common data issues, allowing users to focus on building and refining their models.\n",
    "\n",
    "Together, these tools make it easier to build and train neural networks for predicting outcomes based on structured data, such as whether a football team will win the game."
   ]
  },
  {
   "cell_type": "markdown",
   "id": "97ab9f96",
   "metadata": {},
   "source": [
    "## 1. Load and Prepare Data"
   ]
  },
  {
   "cell_type": "markdown",
   "id": "c3bb33a2",
   "metadata": {},
   "source": [
    "As with the previous notebooks, we will load the training data and select some features for our model. In this instance, we have some categorical features (like team conferences) which are in contrast the the continuous features (like adjusted EPA and success rates) we have used previously. Because of this, we will split our feature set into two lists: one for categorical features and one for continuous features."
   ]
  },
  {
   "cell_type": "code",
   "execution_count": 1,
   "id": "3e82f85b",
   "metadata": {},
   "outputs": [
    {
     "data": {
      "text/html": [
       "<div>\n",
       "<style scoped>\n",
       "    .dataframe tbody tr th:only-of-type {\n",
       "        vertical-align: middle;\n",
       "    }\n",
       "\n",
       "    .dataframe tbody tr th {\n",
       "        vertical-align: top;\n",
       "    }\n",
       "\n",
       "    .dataframe thead th {\n",
       "        text-align: right;\n",
       "    }\n",
       "</style>\n",
       "<table border=\"1\" class=\"dataframe\">\n",
       "  <thead>\n",
       "    <tr style=\"text-align: right;\">\n",
       "      <th></th>\n",
       "      <th>week</th>\n",
       "      <th>home_conference</th>\n",
       "      <th>away_conference</th>\n",
       "      <th>neutral_site</th>\n",
       "      <th>spread</th>\n",
       "      <th>home_adjusted_epa</th>\n",
       "      <th>home_adjusted_epa_allowed</th>\n",
       "      <th>away_adjusted_epa</th>\n",
       "      <th>away_adjusted_epa_allowed</th>\n",
       "      <th>home_adjusted_success</th>\n",
       "      <th>...</th>\n",
       "      <th>home_adjusted_explosiveness</th>\n",
       "      <th>away_adjusted_explosiveness</th>\n",
       "      <th>home_adjusted_line_yards</th>\n",
       "      <th>away_adjusted_line_yards</th>\n",
       "      <th>home_adjusted_open_field_yards</th>\n",
       "      <th>away_adjusted_open_field_yards</th>\n",
       "      <th>home_avg_start_offense</th>\n",
       "      <th>away_avg_start_offense</th>\n",
       "      <th>home_avg_start_defense</th>\n",
       "      <th>away_avg_start_defense</th>\n",
       "    </tr>\n",
       "  </thead>\n",
       "  <tbody>\n",
       "    <tr>\n",
       "      <th>0</th>\n",
       "      <td>5</td>\n",
       "      <td>ACC</td>\n",
       "      <td>ACC</td>\n",
       "      <td>True</td>\n",
       "      <td>12.0</td>\n",
       "      <td>0.149963</td>\n",
       "      <td>0.194471</td>\n",
       "      <td>0.212555</td>\n",
       "      <td>0.201952</td>\n",
       "      <td>0.416381</td>\n",
       "      <td>...</td>\n",
       "      <td>1.217263</td>\n",
       "      <td>1.205505</td>\n",
       "      <td>2.825372</td>\n",
       "      <td>2.927454</td>\n",
       "      <td>1.085852</td>\n",
       "      <td>1.257754</td>\n",
       "      <td>75.0</td>\n",
       "      <td>73.3</td>\n",
       "      <td>71.5</td>\n",
       "      <td>73.3</td>\n",
       "    </tr>\n",
       "    <tr>\n",
       "      <th>1</th>\n",
       "      <td>5</td>\n",
       "      <td>SEC</td>\n",
       "      <td>SEC</td>\n",
       "      <td>False</td>\n",
       "      <td>8.5</td>\n",
       "      <td>0.131300</td>\n",
       "      <td>0.178276</td>\n",
       "      <td>0.180898</td>\n",
       "      <td>0.034531</td>\n",
       "      <td>0.406290</td>\n",
       "      <td>...</td>\n",
       "      <td>1.168697</td>\n",
       "      <td>1.200406</td>\n",
       "      <td>2.825656</td>\n",
       "      <td>2.957792</td>\n",
       "      <td>1.191135</td>\n",
       "      <td>1.162176</td>\n",
       "      <td>69.6</td>\n",
       "      <td>71.9</td>\n",
       "      <td>62.9</td>\n",
       "      <td>71.7</td>\n",
       "    </tr>\n",
       "    <tr>\n",
       "      <th>2</th>\n",
       "      <td>5</td>\n",
       "      <td>SEC</td>\n",
       "      <td>SEC</td>\n",
       "      <td>False</td>\n",
       "      <td>2.5</td>\n",
       "      <td>0.138527</td>\n",
       "      <td>0.140860</td>\n",
       "      <td>0.142758</td>\n",
       "      <td>0.154331</td>\n",
       "      <td>0.420952</td>\n",
       "      <td>...</td>\n",
       "      <td>1.184788</td>\n",
       "      <td>1.179892</td>\n",
       "      <td>3.111430</td>\n",
       "      <td>3.034529</td>\n",
       "      <td>1.255716</td>\n",
       "      <td>1.237646</td>\n",
       "      <td>70.1</td>\n",
       "      <td>66.8</td>\n",
       "      <td>70.7</td>\n",
       "      <td>72.8</td>\n",
       "    </tr>\n",
       "    <tr>\n",
       "      <th>3</th>\n",
       "      <td>5</td>\n",
       "      <td>SEC</td>\n",
       "      <td>SEC</td>\n",
       "      <td>False</td>\n",
       "      <td>-32.5</td>\n",
       "      <td>0.223040</td>\n",
       "      <td>0.048181</td>\n",
       "      <td>0.188880</td>\n",
       "      <td>0.216253</td>\n",
       "      <td>0.455164</td>\n",
       "      <td>...</td>\n",
       "      <td>1.228455</td>\n",
       "      <td>1.222556</td>\n",
       "      <td>3.041990</td>\n",
       "      <td>3.059674</td>\n",
       "      <td>1.503200</td>\n",
       "      <td>1.379784</td>\n",
       "      <td>68.8</td>\n",
       "      <td>69.4</td>\n",
       "      <td>74.1</td>\n",
       "      <td>71.1</td>\n",
       "    </tr>\n",
       "    <tr>\n",
       "      <th>4</th>\n",
       "      <td>5</td>\n",
       "      <td>Big 12</td>\n",
       "      <td>Big 12</td>\n",
       "      <td>False</td>\n",
       "      <td>-5.5</td>\n",
       "      <td>0.157222</td>\n",
       "      <td>0.124830</td>\n",
       "      <td>0.189072</td>\n",
       "      <td>0.065593</td>\n",
       "      <td>0.469674</td>\n",
       "      <td>...</td>\n",
       "      <td>1.161835</td>\n",
       "      <td>1.166344</td>\n",
       "      <td>2.962196</td>\n",
       "      <td>3.120834</td>\n",
       "      <td>1.275008</td>\n",
       "      <td>1.324138</td>\n",
       "      <td>71.1</td>\n",
       "      <td>65.3</td>\n",
       "      <td>70.1</td>\n",
       "      <td>71.5</td>\n",
       "    </tr>\n",
       "  </tbody>\n",
       "</table>\n",
       "<p>5 rows × 27 columns</p>\n",
       "</div>"
      ],
      "text/plain": [
       "   week home_conference away_conference  neutral_site  spread  \\\n",
       "0     5             ACC             ACC          True    12.0   \n",
       "1     5             SEC             SEC         False     8.5   \n",
       "2     5             SEC             SEC         False     2.5   \n",
       "3     5             SEC             SEC         False   -32.5   \n",
       "4     5          Big 12          Big 12         False    -5.5   \n",
       "\n",
       "   home_adjusted_epa  home_adjusted_epa_allowed  away_adjusted_epa  \\\n",
       "0           0.149963                   0.194471           0.212555   \n",
       "1           0.131300                   0.178276           0.180898   \n",
       "2           0.138527                   0.140860           0.142758   \n",
       "3           0.223040                   0.048181           0.188880   \n",
       "4           0.157222                   0.124830           0.189072   \n",
       "\n",
       "   away_adjusted_epa_allowed  home_adjusted_success  ...  \\\n",
       "0                   0.201952               0.416381  ...   \n",
       "1                   0.034531               0.406290  ...   \n",
       "2                   0.154331               0.420952  ...   \n",
       "3                   0.216253               0.455164  ...   \n",
       "4                   0.065593               0.469674  ...   \n",
       "\n",
       "   home_adjusted_explosiveness  away_adjusted_explosiveness  \\\n",
       "0                     1.217263                     1.205505   \n",
       "1                     1.168697                     1.200406   \n",
       "2                     1.184788                     1.179892   \n",
       "3                     1.228455                     1.222556   \n",
       "4                     1.161835                     1.166344   \n",
       "\n",
       "   home_adjusted_line_yards  away_adjusted_line_yards  \\\n",
       "0                  2.825372                  2.927454   \n",
       "1                  2.825656                  2.957792   \n",
       "2                  3.111430                  3.034529   \n",
       "3                  3.041990                  3.059674   \n",
       "4                  2.962196                  3.120834   \n",
       "\n",
       "   home_adjusted_open_field_yards  away_adjusted_open_field_yards  \\\n",
       "0                        1.085852                        1.257754   \n",
       "1                        1.191135                        1.162176   \n",
       "2                        1.255716                        1.237646   \n",
       "3                        1.503200                        1.379784   \n",
       "4                        1.275008                        1.324138   \n",
       "\n",
       "   home_avg_start_offense  away_avg_start_offense  home_avg_start_defense  \\\n",
       "0                    75.0                    73.3                    71.5   \n",
       "1                    69.6                    71.9                    62.9   \n",
       "2                    70.1                    66.8                    70.7   \n",
       "3                    68.8                    69.4                    74.1   \n",
       "4                    71.1                    65.3                    70.1   \n",
       "\n",
       "   away_avg_start_defense  \n",
       "0                    73.3  \n",
       "1                    71.7  \n",
       "2                    72.8  \n",
       "3                    71.1  \n",
       "4                    71.5  \n",
       "\n",
       "[5 rows x 27 columns]"
      ]
     },
     "execution_count": 1,
     "metadata": {},
     "output_type": "execute_result"
    }
   ],
   "source": [
    "import pandas as pd\n",
    "\n",
    "df = pd.read_csv(\"training_data.csv\")\n",
    "cat_features = ['week', 'home_conference', 'away_conference', 'neutral_site']\n",
    "cont_features = [\n",
    "    'spread',\n",
    "    'home_adjusted_epa', 'home_adjusted_epa_allowed', 'away_adjusted_epa', 'away_adjusted_epa_allowed',\n",
    "    'home_adjusted_success', 'home_adjusted_success_allowed', 'away_adjusted_success', 'away_adjusted_success_allowed',\n",
    "    'home_talent', 'away_talent', 'home_elo', 'away_elo',\n",
    "    'home_adjusted_explosiveness', 'away_adjusted_explosiveness',\n",
    "    'home_adjusted_line_yards', 'away_adjusted_line_yards',\n",
    "    'home_adjusted_open_field_yards', 'away_adjusted_open_field_yards',\n",
    "    'home_avg_start_offense', 'away_avg_start_offense',\n",
    "    'home_avg_start_defense', 'away_avg_start_defense'\n",
    "]\n",
    "\n",
    "df[cat_features + cont_features].head()"
   ]
  },
  {
   "cell_type": "markdown",
   "id": "8e2f8658",
   "metadata": {},
   "source": [
    "We will be predicting the probability of the home team winning the game, so our target variable will be binary: 1 if the home team wins, 0 if they do not."
   ]
  },
  {
   "cell_type": "code",
   "execution_count": 2,
   "id": "34ca272e",
   "metadata": {},
   "outputs": [
    {
     "data": {
      "text/plain": [
       "home_win\n",
       "1    2573\n",
       "0    1947\n",
       "Name: count, dtype: int64"
      ]
     },
     "execution_count": 2,
     "metadata": {},
     "output_type": "execute_result"
    }
   ],
   "source": [
    "df['home_win'] = (df['home_points'] > df['away_points']).astype(int)\n",
    "df['home_win'].value_counts()"
   ]
  },
  {
   "cell_type": "markdown",
   "id": "917b7c40",
   "metadata": {},
   "source": [
    "## 2. Train/Test Split"
   ]
  },
  {
   "cell_type": "markdown",
   "id": "1626ef71",
   "metadata": {},
   "source": [
    "**RandomSplitter** is a function from FastAI that helps divide your dataset into two parts: one for training the model and one for testing (or validating) how well the model works. It does this by randomly picking a percentage of the data to be used for validation, while the rest is used for training.\n",
    "\n",
    "We use RandomSplitter instead of scikit-learn's `train_test_split` because FastAI expects the split to be given as lists of row indices, not as separate DataFrames. RandomSplitter returns these indices directly, making it easier to use with FastAI's data loaders. This keeps our workflow simple and compatible with FastAI's tools."
   ]
  },
  {
   "cell_type": "code",
   "execution_count": 3,
   "id": "a1eab470",
   "metadata": {},
   "outputs": [],
   "source": [
    "from fastai.tabular.all import *\n",
    "\n",
    "splitter = RandomSplitter(valid_pct=0.2, seed=77)\n",
    "train_idx, valid_idx = splitter(df)"
   ]
  },
  {
   "cell_type": "markdown",
   "id": "d1d2b698",
   "metadata": {},
   "source": [
    "## 3. Create FastAI DataLoaders"
   ]
  },
  {
   "cell_type": "markdown",
   "id": "1ad028e8",
   "metadata": {},
   "source": [
    "Fastai DataLoaders are a key component in the fastai library, designed to efficiently load and preprocess data for training machine learning models. In the context of the tabular module, DataLoaders help manage tabular data (like CSV files) by automatically handling tasks such as splitting the data into training and validation sets, shuffling the data, and applying any necessary transformations.\n",
    "\n",
    "When creating a DataLoader for tabular data, we often use the following transformations in the constructor:\n",
    "\n",
    "1. **Categorify**: This transformation is used to convert categorical variables (like strings or labels) into a format that can be easily processed by machine learning algorithms. It assigns a unique integer to each category, allowing the model to understand and work with these variables.\n",
    "\n",
    "2. **FillMissing**: This transformation addresses missing values in the dataset. Many machine learning algorithms cannot handle missing data, so this transformation fills in any gaps with a specified value (like the mean or median of the column) to ensure the dataset is complete.\n",
    "\n",
    "3. **Normalize**: This transformation scales numerical features to a standard range, typically between 0 and 1. Normalization helps improve the convergence of the training process and can lead to better model performance.\n",
    "\n",
    "The `bs` parameter (batch size) determines how many samples are processed together in each training iteration. A larger batch size can speed up training but requires more memory, while a smaller batch size may lead to more stable updates but can slow down the training process."
   ]
  },
  {
   "cell_type": "code",
   "execution_count": 4,
   "id": "f6408f93",
   "metadata": {},
   "outputs": [],
   "source": [
    "from fastai.tabular.all import *\n",
    "\n",
    "# Combine train and valid into one DataFrame\n",
    "dls = TabularDataLoaders.from_df(\n",
    "    df,\n",
    "    procs=[Categorify, FillMissing, Normalize],\n",
    "    cat_names=cat_features,\n",
    "    cont_names=cont_features,\n",
    "    y_names='home_win',\n",
    "    valid_idx=valid_idx,\\\n",
    "    bs=64\n",
    ")"
   ]
  },
  {
   "cell_type": "markdown",
   "id": "d029786a",
   "metadata": {},
   "source": [
    "## 4. Train Neural Network Model"
   ]
  },
  {
   "cell_type": "markdown",
   "id": "5fe29415",
   "metadata": {},
   "source": [
    "The `tabular_learner` function creates a neural network model designed to work with tabular (spreadsheet-like) data. It uses the DataLoaders (`dls`) we created earlier, which organize and preprocess the data for training and validation. The DataLoaders handle tasks like converting categories to numbers, filling in missing values, and normalizing the data so the model can learn effectively.\n",
    "\n",
    "When we set `metrics=[accuracy, RocAucBinary(), F1Score()]`, we tell FastAI to track three ways of measuring how well our model is doing:\n",
    "\n",
    "- **Accuracy**: This measures the percentage of predictions the model gets right. For example, if the model predicts correctly 80 out of 100 times, the accuracy is 80%.\n",
    "- **RocAucBinary()**: This stands for \"Receiver Operating Characteristic Area Under Curve\" for binary classification. It shows how well the model can separate the two classes (home team wins or not) across all possible thresholds. A higher value means better separation.\n",
    "- **F1Score()**: This combines precision (how many predicted wins were actually wins) and recall (how many actual wins were found by the model) into a single score. It's useful when the classes are imbalanced.\n",
    "\n",
    "**`lr_find()`**: This function helps us find a good learning rate for training the model. The learning rate is a crucial hyperparameter that determines how much to change the model in response to the estimated error each time the model weights are updated. If the learning rate is too high, the model might converge too quickly to a suboptimal solution, while a learning rate that's too low can make the training process unnecessarily slow.\n",
    "\n",
    "The `lr_find()` function works by training the model for a few iterations while gradually increasing the learning rate. It then plots the loss (how well the model is doing) against the learning rate. By examining this plot, we can identify a learning rate that is likely to work well for training the model."
   ]
  },
  {
   "cell_type": "code",
   "execution_count": 5,
   "id": "991368c4",
   "metadata": {},
   "outputs": [
    {
     "data": {
      "text/html": [
       "\n",
       "<style>\n",
       "    /* Turns off some styling */\n",
       "    progress {\n",
       "        /* gets rid of default border in Firefox and Opera. */\n",
       "        border: none;\n",
       "        /* Needs to be in here for Safari polyfill so background images work as expected. */\n",
       "        background-size: auto;\n",
       "    }\n",
       "    progress:not([value]), progress:not([value])::-webkit-progress-bar {\n",
       "        background: repeating-linear-gradient(45deg, #7e7e7e, #7e7e7e 10px, #5c5c5c 10px, #5c5c5c 20px);\n",
       "    }\n",
       "    .progress-bar-interrupted, .progress-bar-interrupted::-webkit-progress-bar {\n",
       "        background: #F44336;\n",
       "    }\n",
       "</style>\n"
      ],
      "text/plain": [
       "<IPython.core.display.HTML object>"
      ]
     },
     "metadata": {},
     "output_type": "display_data"
    },
    {
     "data": {
      "text/html": [],
      "text/plain": [
       "<IPython.core.display.HTML object>"
      ]
     },
     "metadata": {},
     "output_type": "display_data"
    },
    {
     "name": "stderr",
     "output_type": "stream",
     "text": [
      "/home/bluescar/jupyter/venv/lib/python3.12/site-packages/fastai/learner.py:53: FutureWarning: You are using `torch.load` with `weights_only=False` (the current default value), which uses the default pickle module implicitly. It is possible to construct malicious pickle data which will execute arbitrary code during unpickling (See https://github.com/pytorch/pytorch/blob/main/SECURITY.md#untrusted-models for more details). In a future release, the default value for `weights_only` will be flipped to `True`. This limits the functions that could be executed during unpickling. Arbitrary objects will no longer be allowed to be loaded via this mode unless they are explicitly allowlisted by the user via `torch.serialization.add_safe_globals`. We recommend you start setting `weights_only=True` for any use case where you don't have full control of the loaded file. Please open an issue on GitHub for any issues related to this experimental feature.\n",
      "  state = torch.load(file, map_location=device, **torch_load_kwargs)\n"
     ]
    },
    {
     "data": {
      "image/png": "[encoded data removed]",
      "text/plain": [
       "<Figure size 640x480 with 1 Axes>"
      ]
     },
     "metadata": {},
     "output_type": "display_data"
    }
   ],
   "source": [
    "learn = tabular_learner(dls, metrics=[accuracy, RocAucBinary(), F1Score()])\n",
    "\n",
    "suggested = learn.lr_find()  # Run once to find a good LR"
   ]
  },
  {
   "cell_type": "markdown",
   "id": "0f20e2de",
   "metadata": {},
   "source": [
    "The below code trains the neural network model for 4 rounds (called \"epochs\") using the data. During each epoch, the model looks at all the training examples and tries to improve its predictions. The `one_cycle` part means the learning rate (how much the model changes each time) starts low, gets higher, then goes back down, which helps the model learn better and faster. The `lr_max=suggested.valley` sets the highest learning rate to the value that was recommended earlier, so the model doesn't learn too quickly or too slowly. This process helps the model get better at predicting whether the home team will win."
   ]
  },
  {
   "cell_type": "code",
   "execution_count": 6,
   "id": "0bd343e0",
   "metadata": {},
   "outputs": [
    {
     "data": {
      "text/html": [
       "\n",
       "<style>\n",
       "    /* Turns off some styling */\n",
       "    progress {\n",
       "        /* gets rid of default border in Firefox and Opera. */\n",
       "        border: none;\n",
       "        /* Needs to be in here for Safari polyfill so background images work as expected. */\n",
       "        background-size: auto;\n",
       "    }\n",
       "    progress:not([value]), progress:not([value])::-webkit-progress-bar {\n",
       "        background: repeating-linear-gradient(45deg, #7e7e7e, #7e7e7e 10px, #5c5c5c 10px, #5c5c5c 20px);\n",
       "    }\n",
       "    .progress-bar-interrupted, .progress-bar-interrupted::-webkit-progress-bar {\n",
       "        background: #F44336;\n",
       "    }\n",
       "</style>\n"
      ],
      "text/plain": [
       "<IPython.core.display.HTML object>"
      ]
     },
     "metadata": {},
     "output_type": "display_data"
    },
    {
     "data": {
      "text/html": [
       "<table border=\"1\" class=\"dataframe\">\n",
       "  <thead>\n",
       "    <tr style=\"text-align: left;\">\n",
       "      <th>epoch</th>\n",
       "      <th>train_loss</th>\n",
       "      <th>valid_loss</th>\n",
       "      <th>accuracy</th>\n",
       "      <th>roc_auc_score</th>\n",
       "      <th>f1_score</th>\n",
       "      <th>time</th>\n",
       "    </tr>\n",
       "  </thead>\n",
       "  <tbody>\n",
       "    <tr>\n",
       "      <td>0</td>\n",
       "      <td>0.575755</td>\n",
       "      <td>0.402108</td>\n",
       "      <td>0.413717</td>\n",
       "      <td>0.500000</td>\n",
       "      <td>0.000000</td>\n",
       "      <td>00:00</td>\n",
       "    </tr>\n",
       "    <tr>\n",
       "      <td>1</td>\n",
       "      <td>0.352206</td>\n",
       "      <td>0.266081</td>\n",
       "      <td>0.413717</td>\n",
       "      <td>0.500000</td>\n",
       "      <td>0.000000</td>\n",
       "      <td>00:00</td>\n",
       "    </tr>\n",
       "    <tr>\n",
       "      <td>2</td>\n",
       "      <td>0.229896</td>\n",
       "      <td>0.217401</td>\n",
       "      <td>0.413717</td>\n",
       "      <td>0.500000</td>\n",
       "      <td>0.000000</td>\n",
       "      <td>00:00</td>\n",
       "    </tr>\n",
       "    <tr>\n",
       "      <td>3</td>\n",
       "      <td>0.190760</td>\n",
       "      <td>0.214887</td>\n",
       "      <td>0.413717</td>\n",
       "      <td>0.500000</td>\n",
       "      <td>0.000000</td>\n",
       "      <td>00:00</td>\n",
       "    </tr>\n",
       "  </tbody>\n",
       "</table>"
      ],
      "text/plain": [
       "<IPython.core.display.HTML object>"
      ]
     },
     "metadata": {},
     "output_type": "display_data"
    }
   ],
   "source": [
    "learn.fit_one_cycle(4, lr_max=suggested.valley)"
   ]
  },
  {
   "cell_type": "markdown",
   "id": "9da3bbf9",
   "metadata": {},
   "source": [
    "## 5. Evaluate Predictions"
   ]
  },
  {
   "cell_type": "markdown",
   "id": "a21a97a0",
   "metadata": {},
   "source": [
    "We will now evaluate the model's predictions on the validation set. This involves checking how well the model predicts whether the home team will win the game.\n",
    "\n",
    "1. **`get_preds()`**: This function gets the model’s predictions and the actual answers for the validation set. The predictions are probabilities that the home team will win.\n",
    "\n",
    "2. **`squeeze()`**: This just flattens the predictions so they’re easier to work with.\n",
    "\n",
    "3. **Thresholding**: By checking if each prediction is greater than 0.5, we turn the probabilities into simple yes/no answers (1 if the model thinks the home team will win, 0 if not).\n",
    "\n",
    "4. **Evaluation Metrics**:\n",
    "   - **Accuracy**: Shows how often the model correctly predicts whether the home team wins.\n",
    "   - **AUC**: Tells us how well the model separates games where the home team wins from those where they don’t, using the predicted probabilities.\n",
    "   - **F1 Score**: Balances how many times the model finds actual wins and how many of its win predictions are correct.\n",
    "\n",
    "In this context, higher values for these metrics mean the model is better at predicting which games the home team will win. Lower values mean the predictions are less reliable."
   ]
  },
  {
   "cell_type": "code",
   "execution_count": 7,
   "id": "a9053c6f",
   "metadata": {},
   "outputs": [
    {
     "data": {
      "text/html": [
       "\n",
       "<style>\n",
       "    /* Turns off some styling */\n",
       "    progress {\n",
       "        /* gets rid of default border in Firefox and Opera. */\n",
       "        border: none;\n",
       "        /* Needs to be in here for Safari polyfill so background images work as expected. */\n",
       "        background-size: auto;\n",
       "    }\n",
       "    progress:not([value]), progress:not([value])::-webkit-progress-bar {\n",
       "        background: repeating-linear-gradient(45deg, #7e7e7e, #7e7e7e 10px, #5c5c5c 10px, #5c5c5c 20px);\n",
       "    }\n",
       "    .progress-bar-interrupted, .progress-bar-interrupted::-webkit-progress-bar {\n",
       "        background: #F44336;\n",
       "    }\n",
       "</style>\n"
      ],
      "text/plain": [
       "<IPython.core.display.HTML object>"
      ]
     },
     "metadata": {},
     "output_type": "display_data"
    },
    {
     "data": {
      "text/html": [],
      "text/plain": [
       "<IPython.core.display.HTML object>"
      ]
     },
     "metadata": {},
     "output_type": "display_data"
    },
    {
     "name": "stdout",
     "output_type": "stream",
     "text": [
      "Accuracy: 0.665929203539823\n",
      "AUC: 0.7371052366057916\n",
      "F1 Score: 0.6967871485943775\n"
     ]
    }
   ],
   "source": [
    "preds, targs = learn.get_preds()\n",
    "pred_labels = preds.squeeze() > 0.5\n",
    "\n",
    "from sklearn.metrics import accuracy_score, roc_auc_score, f1_score\n",
    "\n",
    "print(\"Accuracy:\", accuracy_score(targs, pred_labels))\n",
    "print(\"AUC:\", roc_auc_score(targs, preds.squeeze()))\n",
    "print(\"F1 Score:\", f1_score(targs, pred_labels))"
   ]
  },
  {
   "cell_type": "markdown",
   "id": "e0558619",
   "metadata": {},
   "source": [
    "## 6. Calibration Curve"
   ]
  },
  {
   "cell_type": "markdown",
   "id": "7abe309e",
   "metadata": {},
   "source": [
    "As we did with the previous notebook, we will plot a calibration curve to see how well the predicted probabilities match the actual outcomes. This helps us understand if the model's confidence in its predictions is well-calibrated. The diagonal line represents perfect calibration, where predicted probabilities match actual outcomes perfectly. Points above the line indicate overconfidence (predicted probabilities are too high), while points below the line indicate underconfidence (predicted probabilities are too low). Ideally, we want our points to be close to the diagonal line."
   ]
  },
  {
   "cell_type": "code",
   "execution_count": 8,
   "id": "3bda1fe8",
   "metadata": {},
   "outputs": [
    {
     "data": {
      "image/png": "[encoded data removed]",
      "text/plain": [
       "<Figure size 800x500 with 1 Axes>"
      ]
     },
     "metadata": {},
     "output_type": "display_data"
    }
   ],
   "source": [
    "from sklearn.calibration import calibration_curve\n",
    "\n",
    "# Clip predicted probabilities to [0, 1] to avoid ValueError\n",
    "pred_probs = preds.squeeze().clip(0, 1)\n",
    "prob_true, prob_pred = calibration_curve(targs, pred_probs, n_bins=20)\n",
    "\n",
    "plt.figure(figsize=(8, 5))\n",
    "plt.plot(prob_pred, prob_true, marker='o', label='FastAI')\n",
    "plt.plot([0, 1], [0, 1], linestyle='--', color='gray', label='Perfectly Calibrated')\n",
    "plt.xlabel(\"Mean Predicted Probability\")\n",
    "plt.ylabel(\"Fraction of Positives\")\n",
    "plt.title(\"Calibration Curve\")\n",
    "plt.legend()\n",
    "plt.grid(True)\n",
    "plt.show()"
   ]
  },
  {
   "cell_type": "markdown",
   "id": "1dc7662e",
   "metadata": {},
   "source": [
    "## 7. Save Model"
   ]
  },
  {
   "cell_type": "markdown",
   "id": "9783db2a",
   "metadata": {},
   "source": [
    "Unlike previous notebooks, we do not need to import another library to save the model. FastAI provides a built-in method to save the trained model directly. This method saves the model's architecture and learned parameters, allowing us to load it later for making predictions without needing to retrain it."
   ]
  },
  {
   "cell_type": "code",
   "execution_count": 9,
   "id": "772bc2fe",
   "metadata": {},
   "outputs": [],
   "source": [
    "learn.export('fastai_home_win_model.pkl')\n",
    "\n",
    "# Load the model later using:\n",
    "# from fastai.tabular.all import load_learner\n",
    "# learn = load_learner('fastai_home_win_model.pkl')"
   ]
  },
  {
   "cell_type": "markdown",
   "id": "3f07135a",
   "metadata": {},
   "source": [
    "## 8. Load Model and Make Predictions\n",
    "To use the saved model for predictions, load it and create a new DataFrame with the same features as the training data. The model will then give you the probability that the home team will win, as a number between 0 and 1."
   ]
  },
  {
   "cell_type": "code",
   "execution_count": 24,
   "id": "cb70a42d",
   "metadata": {},
   "outputs": [
    {
     "data": {
      "text/html": [
       "\n",
       "<style>\n",
       "    /* Turns off some styling */\n",
       "    progress {\n",
       "        /* gets rid of default border in Firefox and Opera. */\n",
       "        border: none;\n",
       "        /* Needs to be in here for Safari polyfill so background images work as expected. */\n",
       "        background-size: auto;\n",
       "    }\n",
       "    progress:not([value]), progress:not([value])::-webkit-progress-bar {\n",
       "        background: repeating-linear-gradient(45deg, #7e7e7e, #7e7e7e 10px, #5c5c5c 10px, #5c5c5c 20px);\n",
       "    }\n",
       "    .progress-bar-interrupted, .progress-bar-interrupted::-webkit-progress-bar {\n",
       "        background: #F44336;\n",
       "    }\n",
       "</style>\n"
      ],
      "text/plain": [
       "<IPython.core.display.HTML object>"
      ]
     },
     "metadata": {},
     "output_type": "display_data"
    },
    {
     "data": {
      "text/html": [],
      "text/plain": [
       "<IPython.core.display.HTML object>"
      ]
     },
     "metadata": {},
     "output_type": "display_data"
    },
    {
     "data": {
      "text/html": [
       "<div>\n",
       "<style scoped>\n",
       "    .dataframe tbody tr th:only-of-type {\n",
       "        vertical-align: middle;\n",
       "    }\n",
       "\n",
       "    .dataframe tbody tr th {\n",
       "        vertical-align: top;\n",
       "    }\n",
       "\n",
       "    .dataframe thead th {\n",
       "        text-align: right;\n",
       "    }\n",
       "</style>\n",
       "<table border=\"1\" class=\"dataframe\">\n",
       "  <thead>\n",
       "    <tr style=\"text-align: right;\">\n",
       "      <th></th>\n",
       "      <th>home_team</th>\n",
       "      <th>away_team</th>\n",
       "      <th>spread</th>\n",
       "      <th>predicted</th>\n",
       "    </tr>\n",
       "  </thead>\n",
       "  <tbody>\n",
       "    <tr>\n",
       "      <th>0</th>\n",
       "      <td>Alabama</td>\n",
       "      <td>Tennessee</td>\n",
       "      <td>-8.5</td>\n",
       "      <td>1.000000</td>\n",
       "    </tr>\n",
       "    <tr>\n",
       "      <th>1</th>\n",
       "      <td>Missouri</td>\n",
       "      <td>South Carolina</td>\n",
       "      <td>-7.0</td>\n",
       "      <td>0.606170</td>\n",
       "    </tr>\n",
       "    <tr>\n",
       "      <th>2</th>\n",
       "      <td>West Virginia</td>\n",
       "      <td>Oklahoma State</td>\n",
       "      <td>-3.0</td>\n",
       "      <td>0.547662</td>\n",
       "    </tr>\n",
       "    <tr>\n",
       "      <th>3</th>\n",
       "      <td>Cincinnati</td>\n",
       "      <td>Baylor</td>\n",
       "      <td>-2.5</td>\n",
       "      <td>0.534694</td>\n",
       "    </tr>\n",
       "    <tr>\n",
       "      <th>4</th>\n",
       "      <td>BYU</td>\n",
       "      <td>Texas Tech</td>\n",
       "      <td>3.0</td>\n",
       "      <td>0.370723</td>\n",
       "    </tr>\n",
       "    <tr>\n",
       "      <th>5</th>\n",
       "      <td>Kansas State</td>\n",
       "      <td>TCU</td>\n",
       "      <td>-5.5</td>\n",
       "      <td>0.817639</td>\n",
       "    </tr>\n",
       "    <tr>\n",
       "      <th>6</th>\n",
       "      <td>Bowling Green</td>\n",
       "      <td>Akron</td>\n",
       "      <td>-7.0</td>\n",
       "      <td>0.308317</td>\n",
       "    </tr>\n",
       "    <tr>\n",
       "      <th>7</th>\n",
       "      <td>Miami (OH)</td>\n",
       "      <td>Toledo</td>\n",
       "      <td>2.5</td>\n",
       "      <td>0.495939</td>\n",
       "    </tr>\n",
       "    <tr>\n",
       "      <th>8</th>\n",
       "      <td>UConn</td>\n",
       "      <td>South Florida</td>\n",
       "      <td>-1.0</td>\n",
       "      <td>0.344337</td>\n",
       "    </tr>\n",
       "    <tr>\n",
       "      <th>9</th>\n",
       "      <td>UAB</td>\n",
       "      <td>Memphis</td>\n",
       "      <td>7.5</td>\n",
       "      <td>0.051369</td>\n",
       "    </tr>\n",
       "  </tbody>\n",
       "</table>\n",
       "</div>"
      ],
      "text/plain": [
       "       home_team       away_team  spread  predicted\n",
       "0        Alabama       Tennessee    -8.5   1.000000\n",
       "1       Missouri  South Carolina    -7.0   0.606170\n",
       "2  West Virginia  Oklahoma State    -3.0   0.547662\n",
       "3     Cincinnati          Baylor    -2.5   0.534694\n",
       "4            BYU      Texas Tech     3.0   0.370723\n",
       "5   Kansas State             TCU    -5.5   0.817639\n",
       "6  Bowling Green           Akron    -7.0   0.308317\n",
       "7     Miami (OH)          Toledo     2.5   0.495939\n",
       "8          UConn   South Florida    -1.0   0.344337\n",
       "9            UAB         Memphis     7.5   0.051369"
      ]
     },
     "execution_count": 24,
     "metadata": {},
     "output_type": "execute_result"
    }
   ],
   "source": [
    "model = load_learner('fastai_home_win_model.pkl')\n",
    "\n",
    "cat_features = ['week', 'home_conference', 'away_conference', 'neutral_site']\n",
    "cont_features = [\n",
    "    'spread',\n",
    "    'home_adjusted_epa', 'home_adjusted_epa_allowed', 'away_adjusted_epa', 'away_adjusted_epa_allowed',\n",
    "    'home_adjusted_success', 'home_adjusted_success_allowed', 'away_adjusted_success', 'away_adjusted_success_allowed',\n",
    "    'home_talent', 'away_talent', 'home_elo', 'away_elo',\n",
    "    'home_adjusted_explosiveness', 'away_adjusted_explosiveness',\n",
    "    'home_adjusted_line_yards', 'away_adjusted_line_yards',\n",
    "    'home_adjusted_open_field_yards', 'away_adjusted_open_field_yards',\n",
    "    'home_avg_start_offense', 'away_avg_start_offense',\n",
    "    'home_avg_start_defense', 'away_avg_start_defense'\n",
    "]\n",
    "\n",
    "df = pd.read_csv(\"training_data.csv\").query(\"season == 2023 and week == 8\").reset_index(drop=True)\n",
    "\n",
    "df[cat_features + cont_features].head()\n",
    "\n",
    "dls = model.dls.test_dl(df[cat_features + cont_features])\n",
    "\n",
    "df['predicted'] = model.get_preds(dl=dls)[0].numpy().squeeze().clip(0, 1)\n",
    "\n",
    "df[['home_team', 'away_team', 'spread', 'predicted']].head(10)"
   ]
  },
  {
   "cell_type": "markdown",
   "id": "685e343d",
   "metadata": {},
   "source": [
    "## 9. Next Steps\n",
    "\n",
    "- **Hyperparameter Tuning:** Adjust the setting of the FastAI model to improve performance. Some important tuning parameters are:\n",
    "    - **learning_rate:** The step size at each iteration while moving toward a minimum of the loss function.\n",
    "    - **batch_size:** The number of training examples utilized in one iteration.\n",
    "    - **layers:** The depth of the model, which can impact its ability to learn complex patterns.\n",
    "    - **ps:** The dropout rate, which helps prevent overfitting by randomly setting a fraction of the input units to 0 during training.\n",
    "- **Feature Engineering:** Experiment with the features included in the training data. Add new features from the data and try different combinations to see if they improve the model's performance.\n",
    "- **Predict Final Margin:** Use the trained model to predict the final margin of victory for the home team. This can be done by adjusting the output layer of the model to predict a continuous value instead of a binary outcome."
   ]
  },
  {
   "cell_type": "markdown",
   "id": "9c1ea7fd",
   "metadata": {},
   "source": []
  }
 ],
 "metadata": {
  "kernelspec": {
   "display_name": "venv",
   "language": "python",
   "name": "python3"
  },
  "language_info": {
   "codemirror_mode": {
    "name": "ipython",
    "version": 3
   },
   "file_extension": ".py",
   "mimetype": "text/x-python",
   "name": "python",
   "nbconvert_exporter": "python",
   "pygments_lexer": "ipython3",
   "version": "3.12.6"
  }
 },
 "nbformat": 4,
 "nbformat_minor": 5
}
